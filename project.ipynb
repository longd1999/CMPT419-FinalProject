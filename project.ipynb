{
 "cells": [
  {
   "cell_type": "code",
   "execution_count": 1,
   "metadata": {},
   "outputs": [],
   "source": [
    "#dataset preprocessing\n",
    "\n",
    "import pandas as pd\n",
    "import numpy as np\n",
    "from scipy.stats import norm\n",
    "\n",
    "df = pd.read_csv('Indian Liver Patient Dataset (ILPD).csv')\n",
    " \n",
    "#add header\n",
    "headerList = ['age', 'gender', 'total_Bilirubin', 'direct_Bilirubin', 'tp', 'albumin', 'AG_atio', 'SGPT', 'SGOT', 'Alkphos','Target'] \n",
    "\n",
    "df.to_csv(\"trainset.csv\", header=headerList, index=False)"
   ]
  },
  {
   "cell_type": "code",
   "execution_count": 3,
   "metadata": {},
   "outputs": [
    {
     "name": "stdout",
     "output_type": "stream",
     "text": [
      "Numeric Columns Statistics:\n",
      "              age  total_Bilirubin  direct_Bilirubin           tp  \\\n",
      "count  582.000000       582.000000        582.000000   582.000000   \n",
      "mean    44.711340         3.303265          1.488488   290.754296   \n",
      "std     16.181921         6.213926          2.810324   243.108929   \n",
      "min      4.000000         0.400000          0.100000    63.000000   \n",
      "25%     33.000000         0.800000          0.200000   175.250000   \n",
      "50%     45.000000         1.000000          0.300000   208.000000   \n",
      "75%     57.750000         2.600000          1.300000   298.000000   \n",
      "max     90.000000        75.000000         19.700000  2110.000000   \n",
      "\n",
      "           albumin      AG_atio        SGPT        SGOT     Alkphos  \\\n",
      "count   582.000000   582.000000  582.000000  582.000000  578.000000   \n",
      "mean     80.824742   110.068729    6.482646    3.141581    0.947145   \n",
      "std     182.757696   289.141876    1.086306    0.796176    0.319863   \n",
      "min      10.000000    10.000000    2.700000    0.900000    0.300000   \n",
      "25%      23.000000    25.000000    5.800000    2.600000    0.700000   \n",
      "50%      35.000000    42.000000    6.600000    3.100000    0.940000   \n",
      "75%      60.750000    87.000000    7.200000    3.800000    1.100000   \n",
      "max    2000.000000  4929.000000    9.600000    5.500000    2.800000   \n",
      "\n",
      "           Target  \n",
      "count  582.000000  \n",
      "mean     1.286942  \n",
      "std      0.452723  \n",
      "min      1.000000  \n",
      "25%      1.000000  \n",
      "50%      1.000000  \n",
      "75%      2.000000  \n",
      "max      2.000000  \n",
      "\n",
      "Gender Ratio:\n",
      "gender\n",
      "Male      0.757732\n",
      "Female    0.242268\n",
      "Name: proportion, dtype: float64\n"
     ]
    }
   ],
   "source": [
    "# Stats of current dataset\n",
    "import pandas as pd\n",
    "import numpy as np\n",
    "from scipy.stats import norm\n",
    "\n",
    "df = pd.read_csv('trainset.csv')\n",
    "\n",
    "# Compute statistics for numeric columns\n",
    "numeric_columns = df.select_dtypes(include=[np.number]).columns\n",
    "numeric_stats = df[numeric_columns].describe()\n",
    "\n",
    "# Compute statistics for gender column\n",
    "gender_ratio = df['gender'].value_counts(normalize=True)\n",
    "\n",
    "# Print the statistics\n",
    "print(\"Numeric Columns Statistics:\")\n",
    "print(numeric_stats)\n",
    "\n",
    "print(\"\\nGender Ratio:\")\n",
    "print(gender_ratio)"
   ]
  },
  {
   "cell_type": "code",
   "execution_count": null,
   "metadata": {},
   "outputs": [],
   "source": [
    "# do 80 - 20 split but make sure the gender proportion remain the same in both sets"
   ]
  }
 ],
 "metadata": {
  "kernelspec": {
   "display_name": "Python 3",
   "language": "python",
   "name": "python3"
  },
  "language_info": {
   "codemirror_mode": {
    "name": "ipython",
    "version": 3
   },
   "file_extension": ".py",
   "mimetype": "text/x-python",
   "name": "python",
   "nbconvert_exporter": "python",
   "pygments_lexer": "ipython3",
   "version": "3.11.5"
  }
 },
 "nbformat": 4,
 "nbformat_minor": 2
}

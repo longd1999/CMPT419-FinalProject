{
 "cells": [
  {
   "cell_type": "code",
   "execution_count": 10,
   "metadata": {},
   "outputs": [
    {
     "name": "stdout",
     "output_type": "stream",
     "text": [
      "data/train-00000-of-05534-*\n"
     ]
    },
    {
     "name": "stderr",
     "output_type": "stream",
     "text": [
      "Found cached dataset generator (C:/Users/Long/.cache/huggingface/datasets/generator/default-a8992e25aa5626b2/0.0.0)\n"
     ]
    },
    {
     "name": "stdout",
     "output_type": "stream",
     "text": [
      "Downloading and preparing dataset generator/default to C:/Users/Long/.cache/huggingface/datasets/generator/default-24de5f2a2a10fd73/0.0.0...\n"
     ]
    },
    {
     "data": {
      "application/vnd.jupyter.widget-view+json": {
       "model_id": "df684cdaec944a2ea410681809733ca4",
       "version_major": 2,
       "version_minor": 0
      },
      "text/plain": [
       "Generating train split: 0 examples [00:00, ? examples/s]"
      ]
     },
     "metadata": {},
     "output_type": "display_data"
    },
    {
     "name": "stdout",
     "output_type": "stream",
     "text": [
      "Dataset generator downloaded and prepared to C:/Users/Long/.cache/huggingface/datasets/generator/default-24de5f2a2a10fd73/0.0.0. Subsequent calls will reuse this data.\n",
      "Downloading and preparing dataset generator/default to C:/Users/Long/.cache/huggingface/datasets/generator/default-e938f6c0327544e9/0.0.0...\n"
     ]
    },
    {
     "data": {
      "application/vnd.jupyter.widget-view+json": {
       "model_id": "ea2941136ed5422f8660571c76f28a6a",
       "version_major": 2,
       "version_minor": 0
      },
      "text/plain": [
       "Generating train split: 0 examples [00:00, ? examples/s]"
      ]
     },
     "metadata": {},
     "output_type": "display_data"
    },
    {
     "name": "stdout",
     "output_type": "stream",
     "text": [
      "Dataset generator downloaded and prepared to C:/Users/Long/.cache/huggingface/datasets/generator/default-e938f6c0327544e9/0.0.0. Subsequent calls will reuse this data.\n",
      "Downloading and preparing dataset generator/default to C:/Users/Long/.cache/huggingface/datasets/generator/default-5de772a3cb5e0c5e/0.0.0...\n"
     ]
    },
    {
     "data": {
      "application/vnd.jupyter.widget-view+json": {
       "model_id": "70988bfcb31e48699007967212e0cefc",
       "version_major": 2,
       "version_minor": 0
      },
      "text/plain": [
       "Generating train split: 0 examples [00:00, ? examples/s]"
      ]
     },
     "metadata": {},
     "output_type": "display_data"
    },
    {
     "name": "stdout",
     "output_type": "stream",
     "text": [
      "Dataset generator downloaded and prepared to C:/Users/Long/.cache/huggingface/datasets/generator/default-5de772a3cb5e0c5e/0.0.0. Subsequent calls will reuse this data.\n",
      "Downloading and preparing dataset generator/default to C:/Users/Long/.cache/huggingface/datasets/generator/default-c3f370a605c9098e/0.0.0...\n"
     ]
    },
    {
     "data": {
      "application/vnd.jupyter.widget-view+json": {
       "model_id": "75cfc50d8fa241d0a9ad15eb11e9b4ba",
       "version_major": 2,
       "version_minor": 0
      },
      "text/plain": [
       "Generating train split: 0 examples [00:00, ? examples/s]"
      ]
     },
     "metadata": {},
     "output_type": "display_data"
    },
    {
     "name": "stdout",
     "output_type": "stream",
     "text": [
      "Dataset generator downloaded and prepared to C:/Users/Long/.cache/huggingface/datasets/generator/default-c3f370a605c9098e/0.0.0. Subsequent calls will reuse this data.\n",
      "Downloading and preparing dataset generator/default to C:/Users/Long/.cache/huggingface/datasets/generator/default-10996592ac9f1358/0.0.0...\n"
     ]
    },
    {
     "data": {
      "application/vnd.jupyter.widget-view+json": {
       "model_id": "76295cf0951b42608e671d27eb531135",
       "version_major": 2,
       "version_minor": 0
      },
      "text/plain": [
       "Generating train split: 0 examples [00:00, ? examples/s]"
      ]
     },
     "metadata": {},
     "output_type": "display_data"
    },
    {
     "name": "stdout",
     "output_type": "stream",
     "text": [
      "Dataset generator downloaded and prepared to C:/Users/Long/.cache/huggingface/datasets/generator/default-10996592ac9f1358/0.0.0. Subsequent calls will reuse this data.\n"
     ]
    },
    {
     "data": {
      "application/vnd.jupyter.widget-view+json": {
       "model_id": "d6a2d5cd6c8c4685812b0918bdf696f2",
       "version_major": 2,
       "version_minor": 0
      },
      "text/plain": [
       "Saving the dataset (0/5 shards):   0%|          | 0/874594 [00:00<?, ? examples/s]"
      ]
     },
     "metadata": {},
     "output_type": "display_data"
    }
   ],
   "source": [
    "# Download the files from refinedweb hub\n",
    "import os\n",
    "import random\n",
    "from datasets import load_dataset\n",
    "from datasets import Dataset, interleave_datasets , concatenate_datasets\n",
    "import pandas as pd\n",
    "from functools import partial\n",
    "from datasets import Dataset\n",
    "\n",
    "# Set the file pattern for the dataset\n",
    "file_pattern = \"train-{:05d}-of-05534-*\"\n",
    "\n",
    "# Set the number of files to sample\n",
    "num_files_to_sample = 5\n",
    "\n",
    "# Get a list of all file paths matching the pattern\n",
    "all_file_paths = [os.path.join(\"data/\", file_pattern.format(i)) for i in range(5534)]\n",
    "print(all_file_paths[0])\n",
    "# Randomly sample the desired number of file paths\n",
    "sampled_file_paths = random.sample(all_file_paths, num_files_to_sample)\n",
    "# Load and document the sampled files\n",
    "seeds = load_dataset(\"tiiuae/falcon-refinedweb\", split = 'train',streaming=True)\n",
    "def gen_from_iterable_dataset(iterable_ds):\n",
    "    yield from iterable_ds\n",
    "    \n",
    "finalds = seeds.take(1)\n",
    "finalds = Dataset.from_generator(partial(gen_from_iterable_dataset, finalds), features=finalds.features)\n",
    "\n",
    "# finalds = concatenate_datasets([finalds,finalds])\n",
    "for file_path in sampled_file_paths:\n",
    " # Load the file as a dataset\n",
    " iterable_ds = load_dataset(\"tiiuae/falcon-refinedweb\", split = 'train',data_files=file_path, streaming=True)\n",
    "\n",
    " ds = Dataset.from_generator(partial(gen_from_iterable_dataset, iterable_ds), features=iterable_ds.features)\n",
    " finalds = concatenate_datasets([finalds,ds])\n",
    "\n",
    "finalds.save_to_disk(\"test.hf\")"
   ]
  },
  {
   "cell_type": "code",
   "execution_count": 24,
   "metadata": {},
   "outputs": [
    {
     "name": "stderr",
     "output_type": "stream",
     "text": [
      "Loading cached shuffled indices for dataset at d:\\sfu\\courses\\2024 courses\\spring 2024\\cmpt 419\\Assignment 3\\dataset.hf\\cache-c76527dd04b904bc.arrow\n"
     ]
    }
   ],
   "source": [
    "# Sample refinedweb dataset\n",
    "import os\n",
    "import random\n",
    "from datasets import load_dataset\n",
    "from datasets import Dataset, interleave_datasets , concatenate_datasets\n",
    "import pandas as pd\n",
    "from functools import partial\n",
    "from datasets import Dataset\n",
    "\n",
    "# Load .hf from disk\n",
    "ds = Dataset.load_from_disk(\"dataset.hf\")\n",
    "shuffled_ds = ds.shuffle(seed=42)\n",
    "ds2 = shuffled_ds[:50]\n",
    "ds2 = Dataset.from_dict(ds2)\n",
    "df = pd.DataFrame(ds2)\n",
    "df.head(50).to_csv(\"refinedweb_sample.csv\", index=False)"
   ]
  },
  {
   "cell_type": "code",
   "execution_count": 3,
   "metadata": {},
   "outputs": [],
   "source": [
    "# Domain stats for refinedweb\n",
    "import os\n",
    "import random\n",
    "from datasets import load_dataset\n",
    "from datasets import Dataset, interleave_datasets , concatenate_datasets\n",
    "import pandas as pd\n",
    "from functools import partial\n",
    "from datasets import Dataset\n",
    "from urllib.parse import urlparse\n",
    "\n",
    "data = Dataset.load_from_disk(\"dataset.hf\")\n",
    "\n",
    "df = pd.DataFrame(data)\n",
    "\n",
    "# Function to extract domain from URL\n",
    "def extract_domain(url):\n",
    "    parsed_url = urlparse(url)\n",
    "    return parsed_url.netloc\n",
    "\n",
    "df['domain'] = df['url'].apply(extract_domain)\n",
    "\n",
    "domain_stats = df['domain'].value_counts()\n",
    "\n",
    "domain_stats.to_csv('domain_stats.csv', header=['count'])"
   ]
  },
  {
   "cell_type": "code",
   "execution_count": 4,
   "metadata": {},
   "outputs": [],
   "source": [
    "# Stats for selected dataset\n",
    "import pandas as pd\n",
    "\n",
    "df = pd.read_csv(\"Indian Liver Patient Dataset (ILPD).csv\", header=None)\n",
    "\n",
    "gender_column = df.iloc[:, 1]\n",
    "\n",
    "gender_stats = gender_column.describe()\n",
    "\n",
    "gender_stats.to_csv('gender_stat.csv')\n"
   ]
  },
  {
   "cell_type": "code",
   "execution_count": 34,
   "metadata": {},
   "outputs": [],
   "source": [
    "# Sample selected dataset \n",
    "import pandas as pd\n",
    "\n",
    "\n",
    "df = pd.read_csv('Indian Liver Patient Dataset (ILPD).csv')\n",
    "sampled_df = df.sample(n=50, random_state=42)\n",
    "headerList = ['age', 'gender', 'total_Bilirubin', 'direct_Bilirubin', 'tp', 'albumin', 'AG_atio', 'SGPT', 'SGOT', 'Alkphos','Target'] \n",
    "\n",
    "sampled_df.to_csv(\"selected_dataset_sample.csv\", header=headerList, index=False)"
   ]
  },
  {
   "cell_type": "code",
   "execution_count": 52,
   "metadata": {},
   "outputs": [
    {
     "name": "stdout",
     "output_type": "stream",
     "text": [
      "[1, 52, 137, 234, 32, 672, 47, 223, 70, 103, 235, 100, 165, 43, 217, 262, 374, 88, 44, 184, 90, 117, 117, 406, 195, 64, 89, 64, 176, 190, 291, 651, 110, 152, 145, 93, 484, 212, 13, 499, 40, 52, 138, 76, 246, 184, 107, 265, 141, 52, 634]\n"
     ]
    },
    {
     "data": {
      "image/png": "[encoded data removed]",
      "text/plain": [
       "<Figure size 1500x600 with 1 Axes>"
      ]
     },
     "metadata": {},
     "output_type": "display_data"
    }
   ],
   "source": [
    "# Vocab count for refinedweb plot\n",
    "\n",
    "import pandas as pd\n",
    "import matplotlib.pyplot as plt\n",
    "\n",
    "df = pd.read_csv(\"refinedweb_sample.csv\", header=None)\n",
    "\n",
    "content_column = df.iloc[:, 0]\n",
    "vocabcount = []\n",
    "for content in content_column:\n",
    "    unique_words = set(content.split(' '))\n",
    "    vocabcount.append(len(unique_words))\n",
    "print(vocabcount)\n",
    "sorted(vocabcount)\n",
    "\n",
    "plt.figure(figsize=(15, 6))\n",
    "plt.hist(vocabcount, color='skyblue', edgecolor='black')\n",
    "plt.xlabel('Vocabulary Count')\n",
    "plt.ylabel('Frequency')\n",
    "plt.title('Distribution of Vocabulary Count')\n",
    "plt.grid(True)\n",
    "plt.show()\n",
    "\n",
    "vocabcount[0] = 'vocab_count'\n",
    "df['vocab_count'] = vocabcount\n",
    "\n",
    "df.to_csv(\"refinedweb_sample.csv\", header=None, index=None)\n",
    "\n",
    "\n"
   ]
  },
  {
   "cell_type": "code",
   "execution_count": 35,
   "metadata": {},
   "outputs": [
    {
     "name": "stdout",
     "output_type": "stream",
     "text": [
      "    Alkphos  Alk_percentile\n",
      "0      0.37        2.040816\n",
      "1      1.30       89.795918\n",
      "2      1.00       64.285714\n",
      "3      0.70       31.632653\n",
      "4      1.70      100.000000\n",
      "5      0.90       50.000000\n",
      "6      1.20       82.653061\n",
      "7      0.80       43.877551\n",
      "8      1.00       64.285714\n",
      "9      1.30       89.795918\n",
      "10     0.80       43.877551\n",
      "11     0.50       10.204082\n",
      "12     1.16       78.571429\n",
      "13     0.70       31.632653\n",
      "14     1.16       78.571429\n",
      "15     0.62       22.448980\n",
      "16     0.70       31.632653\n",
      "17     1.20       82.653061\n",
      "18     1.00       64.285714\n",
      "19     1.00       64.285714\n",
      "20     1.00       64.285714\n",
      "21     1.55       97.959184\n",
      "22     1.00       64.285714\n",
      "23     0.80       43.877551\n",
      "24     0.60       16.326531\n",
      "25     0.90       50.000000\n",
      "26     1.00       64.285714\n",
      "27     0.60       16.326531\n",
      "28     0.60       16.326531\n",
      "29     0.40        6.122449\n",
      "30     0.40        6.122449\n",
      "31     0.70       31.632653\n",
      "32     1.25       85.714286\n",
      "33     0.70       31.632653\n",
      "34     1.00       64.285714\n",
      "35     1.00       64.285714\n",
      "36     0.93       53.061224\n",
      "37     0.70       31.632653\n",
      "38     1.00       64.285714\n",
      "39     0.70       31.632653\n",
      "40     0.80       43.877551\n",
      "41      NaN             NaN\n",
      "42     1.40       93.877551\n",
      "43     0.60       16.326531\n",
      "44     1.50       95.918367\n",
      "45     0.70       31.632653\n",
      "46     1.10       75.510204\n",
      "47     0.40        6.122449\n",
      "48     1.30       89.795918\n",
      "49     0.60       16.326531\n"
     ]
    },
    {
     "data": {
      "image/png": "[encoded data removed]",
      "text/plain": [
       "<Figure size 800x600 with 1 Axes>"
      ]
     },
     "metadata": {},
     "output_type": "display_data"
    }
   ],
   "source": [
    "# Age percentile plot\n",
    "\n",
    "import pandas as pd\n",
    "import matplotlib.pyplot as plt\n",
    "\n",
    "df = pd.read_csv(\"selected_dataset_sample.csv\")\n",
    "df['Alk_percentile'] = df['Alkphos'].rank(pct=True) * 100\n",
    "\n",
    "df.to_csv(\"selected_dataset_sample.csv\", index=None)\n",
    "result = pd.concat([df['Alkphos'], df['Alk_percentile']], axis=1)\n",
    "\n",
    "\n",
    "plt.figure(figsize=(8, 6))\n",
    "plt.scatter(df['Alkphos'], df['Alk_percentile'])\n",
    "plt.xlabel('Alkphos')\n",
    "plt.ylabel('Percentile')\n",
    "plt.title('Alkaline phosphatase (ALP) Percentile')\n",
    "plt.grid(True)\n",
    "plt.show()"
   ]
  }
 ],
 "metadata": {
  "kernelspec": {
   "display_name": "base",
   "language": "python",
   "name": "python3"
  },
  "language_info": {
   "codemirror_mode": {
    "name": "ipython",
    "version": 3
   },
   "file_extension": ".py",
   "mimetype": "text/x-python",
   "name": "python",
   "nbconvert_exporter": "python",
   "pygments_lexer": "ipython3",
   "version": "3.11.5"
  }
 },
 "nbformat": 4,
 "nbformat_minor": 2
}
